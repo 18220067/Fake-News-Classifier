{
 "cells": [
  {
   "cell_type": "code",
   "execution_count": 3,
   "metadata": {},
   "outputs": [],
   "source": [
    "import pandas as pd\n",
    "from sklearn.model_selection import train_test_split\n",
    "from sklearn.feature_extraction.text import TfidfVectorizer\n",
    "from sklearn.naive_bayes import MultinomialNB\n",
    "from sklearn.metrics import accuracy_score, confusion_matrix, classification_report\n",
    "from sklearn.ensemble import RandomForestClassifier"
   ]
  },
  {
   "cell_type": "code",
   "execution_count": 4,
   "metadata": {},
   "outputs": [],
   "source": [
    "# Baca Dataset\n",
    "fake = pd.read_csv('fake.csv')\n",
    "true = pd.read_csv('true.csv')"
   ]
  },
  {
   "cell_type": "code",
   "execution_count": 5,
   "metadata": {},
   "outputs": [],
   "source": [
    "# Kasih label\n",
    "fake['label'] = 0 \n",
    "true['label'] = 1 "
   ]
  },
  {
   "cell_type": "code",
   "execution_count": 6,
   "metadata": {},
   "outputs": [],
   "source": [
    "df = pd.concat([true,fake]) # Gabung Dataset"
   ]
  },
  {
   "cell_type": "code",
   "execution_count": 7,
   "metadata": {},
   "outputs": [],
   "source": [
    "# Gabung title sama text, terus di lowercase\n",
    "df['titleandtext'] = df['title'] + ' ' + df['text']\n",
    "df['titleandtext'] = df['titleandtext'].apply(lambda x : x.lower())"
   ]
  },
  {
   "cell_type": "code",
   "execution_count": 8,
   "metadata": {},
   "outputs": [],
   "source": [
    "# Drop data duplicate, sama reset indexnya\n",
    "df = df.reset_index(drop = True)\n",
    "df = df.drop_duplicates()"
   ]
  },
  {
   "cell_type": "markdown",
   "metadata": {},
   "source": [
    "# Text"
   ]
  },
  {
   "cell_type": "code",
   "execution_count": 9,
   "metadata": {},
   "outputs": [
    {
     "name": "stdout",
     "output_type": "stream",
     "text": [
      "              precision    recall  f1-score   support\n",
      "\n",
      "           0       0.94      0.94      0.94      4724\n",
      "           1       0.93      0.94      0.93      4214\n",
      "\n",
      "    accuracy                           0.94      8938\n",
      "   macro avg       0.94      0.94      0.94      8938\n",
      "weighted avg       0.94      0.94      0.94      8938\n",
      "\n"
     ]
    }
   ],
   "source": [
    "# Select Feature and label\n",
    "x = df['titleandtext']\n",
    "y = df['label']\n",
    "\n",
    "# Train test split\n",
    "x_train,x_test,y_train,y_test=train_test_split(x,y, test_size=0.2, stratify=y, random_state = 42)\n",
    "\n",
    "#Tf idf\n",
    "tfidf_vectorizer=TfidfVectorizer(stop_words='english') # Declare\n",
    "tfidf_train=tfidf_vectorizer.fit_transform(x_train)  # Fit di train data & transform train data\n",
    "tfidf_test=tfidf_vectorizer.transform(x_test) # trasnform test data\n",
    "\n",
    "clf = MultinomialNB() #Naive bayes\n",
    "clf.fit(tfidf_train, y_train) # Training\n",
    "\n",
    "print(classification_report(clf.predict(tfidf_test),y_test)) # hasil"
   ]
  },
  {
   "cell_type": "code",
   "execution_count": 10,
   "metadata": {},
   "outputs": [],
   "source": [
    "# Precision = TP / (TP + FP) -> berapa yang kamu predict bener positif / seluruh data yang kamu predict positif\n",
    "# Recall = TP / (TP + FN) -> erbapa yang kamu predict bener positif / Seluruh data yang seharusnya positif\n",
    "# F1 Score = rata precision and recall  2 * (prec * recall ) / (prec + recall) "
   ]
  },
  {
   "cell_type": "code",
   "execution_count": 14,
   "metadata": {},
   "outputs": [],
   "source": [
    "from newspaper import Article\n",
    "url = 'https://boldtv.com/matthew-hirsch/2022/11/08/doj-seizes-over-50000-stolen-bitcoin/'\n",
    "article=Article(url)\n",
    "article.download()\n",
    "article.parse()"
   ]
  },
  {
   "cell_type": "code",
   "execution_count": 15,
   "metadata": {},
   "outputs": [],
   "source": [
    "to_predict = article.title + ' ' + article.text"
   ]
  },
  {
   "cell_type": "code",
   "execution_count": 16,
   "metadata": {},
   "outputs": [],
   "source": [
    "to_predict = to_predict.lower()"
   ]
  },
  {
   "cell_type": "code",
   "execution_count": 17,
   "metadata": {},
   "outputs": [
    {
     "data": {
      "text/plain": [
       "0    doj seizes over 50,000 stolen bitcoin why bloc...\n",
       "dtype: object"
      ]
     },
     "execution_count": 17,
     "metadata": {},
     "output_type": "execute_result"
    }
   ],
   "source": [
    "pd.Series(to_predict)"
   ]
  },
  {
   "cell_type": "code",
   "execution_count": 18,
   "metadata": {},
   "outputs": [
    {
     "data": {
      "text/plain": [
       "array([1])"
      ]
     },
     "execution_count": 18,
     "metadata": {},
     "output_type": "execute_result"
    }
   ],
   "source": [
    "clf.predict(tfidf_vectorizer.transform(pd.Series(to_predict)))"
   ]
  },
  {
   "cell_type": "code",
   "execution_count": 19,
   "metadata": {},
   "outputs": [
    {
     "data": {
      "text/plain": [
       "['model_fakenewsclassifier.sav']"
      ]
     },
     "execution_count": 19,
     "metadata": {},
     "output_type": "execute_result"
    }
   ],
   "source": [
    "import joblib \n",
    "\n",
    "joblib.dump(clf, 'model_fakenewsclassifier.sav')"
   ]
  },
  {
   "cell_type": "code",
   "execution_count": null,
   "metadata": {},
   "outputs": [],
   "source": []
  }
 ],
 "metadata": {
  "kernelspec": {
   "display_name": "Python 3 (ipykernel)",
   "language": "python",
   "name": "python3"
  },
  "language_info": {
   "codemirror_mode": {
    "name": "ipython",
    "version": 3
   },
   "file_extension": ".py",
   "mimetype": "text/x-python",
   "name": "python",
   "nbconvert_exporter": "python",
   "pygments_lexer": "ipython3",
   "version": "3.9.12"
  },
  "vscode": {
   "interpreter": {
    "hash": "397704579725e15f5c7cb49fe5f0341eb7531c82d19f2c29d197e8b64ab5776b"
   }
  }
 },
 "nbformat": 4,
 "nbformat_minor": 2
}
